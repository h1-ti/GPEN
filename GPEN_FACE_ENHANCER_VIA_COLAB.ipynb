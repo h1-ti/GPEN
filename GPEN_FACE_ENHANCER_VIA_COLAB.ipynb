{
  "nbformat": 4,
  "nbformat_minor": 0,
  "metadata": {
    "accelerator": "GPU",
    "colab": {
      "name": "GPEN_FACE_ENHANCER_VIA_COLAB.ipynb",
      "provenance": [],
      "collapsed_sections": [],
      "authorship_tag": "ABX9TyN4Oh9gSovMsnLfhpWEBptf",
      "include_colab_link": true
    },
    "kernelspec": {
      "display_name": "Python 3",
      "name": "python3"
    },
    "language_info": {
      "name": "python"
    }
  },
  "cells": [
    {
      "cell_type": "markdown",
      "metadata": {
        "id": "view-in-github",
        "colab_type": "text"
      },
      "source": [
        "<a href=\"https://colab.research.google.com/github/h1-ti/GPEN/blob/main/GPEN_FACE_ENHANCER_VIA_COLAB.ipynb\" target=\"_parent\"><img src=\"https://colab.research.google.com/assets/colab-badge.svg\" alt=\"Open In Colab\"/></a>"
      ]
    },
    {
      "cell_type": "markdown",
      "metadata": {
        "id": "2tJ_vcf2Rcsa"
      },
      "source": [
        "# **実行前の準備**\n",
        "\n",
        "\n",
        "\n",
        "1.   GOOGOLE DRIVE を開き左上の『＋新規』→　フォルダ　→　faceset フォルダを作成\n",
        "2.   ローカル（自分のパソコン）の 1)Faceset/CATEGORYフォルダ を開き、超解像したいSRCをzipで圧縮する。例）1)Faceset/hogezaka/hoge -> 1)Faceset/hogezaka/hoge.zip\n",
        "3.1のfacesetフォルダに2のhoge.zipをアップロード（複数可）\n",
        "\n"
      ]
    },
    {
      "cell_type": "markdown",
      "metadata": {
        "id": "kT9o8wr-XoPo"
      },
      "source": [
        "# **実行**\n",
        "\n",
        "\n",
        "\n",
        "* このページの上にある　ランタイム（左から５番目）　→　すべてのセルを実行\n",
        "\n",
        "## ※注意  **1.MOUNT GOOGLE DRIVE** のところで入力があります"
      ]
    },
    {
      "cell_type": "markdown",
      "metadata": {
        "id": "tg8amUD0jTUg"
      },
      "source": [
        "### 詳しく"
      ]
    },
    {
      "cell_type": "markdown",
      "metadata": {
        "id": "aXLekaNXfH7J"
      },
      "source": [
        "* GOOGLE DRIVEのマウントが完了したら終わるまで待つだけです\n",
        "\n",
        "\n",
        "* 完了すると先ほどのfacesetフォルダにhoge_superres.zipができるのでドライブからダウンロードしてください\n",
        "\n",
        "\n",
        "* ※srcが多すぎると最後まで完了せずに接続が切れるかもしれません。時間をおいてやり直してください。完了したものはスキップされるようになっております\n",
        "\n",
        "* 実行中に新しいsrcのzipをアップすることも可能です\n",
        "\n",
        "\n",
        "* ※また、2.INSTALL and GET MODEL WEIGHTでダウンロードがうまくいかず止まっている場合はやり直してください"
      ]
    },
    {
      "cell_type": "markdown",
      "metadata": {
        "id": "FQN1kTWtyNkz"
      },
      "source": [
        "**CHECK VIDEO CARD'S SPEC**\n"
      ]
    },
    {
      "cell_type": "markdown",
      "metadata": {
        "id": "Cvm0OvQVk-tS"
      },
      "source": [
        "速さ比較\n",
        "\n",
        " P100(?f/s) > T4(6f/s) > K80(3f/s)"
      ]
    },
    {
      "cell_type": "code",
      "metadata": {
        "id": "pWcpzkH4zygh"
      },
      "source": [
        "!nvidia-smi"
      ],
      "execution_count": null,
      "outputs": []
    },
    {
      "cell_type": "markdown",
      "metadata": {
        "id": "e7jMlGY-x03o"
      },
      "source": [
        "# **1.MOUNT GOOGLE DRIVE**\n",
        "\n",
        "### ①Go to this URL in a browser:の右のリンクからGOOGLEにログイン\n",
        "### ②Enter your authorization code:の下に①で取得したコードをペーストしてGOOGLE DRIVE をマウント\n",
        "\n"
      ]
    },
    {
      "cell_type": "code",
      "metadata": {
        "id": "bgkGoIv80oHK"
      },
      "source": [
        "from google.colab import drive\n",
        "\n",
        "drive.mount('/content/drive')"
      ],
      "execution_count": null,
      "outputs": []
    },
    {
      "cell_type": "markdown",
      "metadata": {
        "id": "3LWZluDOxg1-"
      },
      "source": [
        "# **2.INSTALL and GET MODEL WEIGHT**"
      ]
    },
    {
      "cell_type": "markdown",
      "metadata": {
        "id": "R9RvF56eipf-"
      },
      "source": [
        "### install GPEN"
      ]
    },
    {
      "cell_type": "code",
      "metadata": {
        "id": "w49XiZU8w_K0"
      },
      "source": [
        "%pip install ninja\n",
        "\n",
        "%cd /content\n",
        "!git clone https://github.com/h1-ti/GPEN.git"
      ],
      "execution_count": null,
      "outputs": []
    },
    {
      "cell_type": "markdown",
      "metadata": {
        "id": "-IwOvQkPizw5"
      },
      "source": [
        "### get weights"
      ]
    },
    {
      "cell_type": "code",
      "metadata": {
        "id": "DMi0s85HiYy1"
      },
      "source": [
        "%cd /content/GPEN/weights\n",
        "!wget https://public-vigen-video.oss-cn-shanghai.aliyuncs.com/robin/models/RetinaFace-R50.pth\n",
        "!wget https://public-vigen-video.oss-cn-shanghai.aliyuncs.com/robin/models/GPEN-BFR-512.pth"
      ],
      "execution_count": null,
      "outputs": []
    },
    {
      "cell_type": "markdown",
      "metadata": {
        "id": "aH9EtRb73CVY"
      },
      "source": [
        "# **3.FACE ENHANCE PROCESS**\n"
      ]
    },
    {
      "cell_type": "code",
      "metadata": {
        "colab": {
          "base_uri": "https://localhost:8080/"
        },
        "id": "mBTNvtBH09Y8",
        "outputId": "660af8ea-4a29-4258-b945-2e20ae37fdc3"
      },
      "source": [
        "%cd /content/GPEN"
      ],
      "execution_count": null,
      "outputs": [
        {
          "output_type": "stream",
          "text": [
            "/content/GPEN\n"
          ],
          "name": "stdout"
        }
      ]
    },
    {
      "cell_type": "code",
      "metadata": {
        "id": "NfJEX7oo28ne",
        "cellView": "form"
      },
      "source": [
        "#@title FACE ENHANCE PROCESS\n",
        "\n",
        "from face_enhancement import FaceEnhancement\n",
        "from tqdm import tqdm\n",
        "import os, os.path as osp\n",
        "import zipfile\n",
        "import glob\n",
        "import cv2\n",
        "import shutil\n",
        "import numpy as np\n",
        "\n",
        "from DFLIMG.DFLPNG import DFLPNG\n",
        "from DFLIMG.DFLJPG import DFLJPG\n",
        "\n",
        "root = \"/content/GPEN\"\n",
        "\n",
        "model = {'name':'GPEN-BFR-512', 'size':512}\n",
        "    \n",
        "faceset_dir = \"/content/drive/MyDrive/faceset\"\n",
        "indir = osp.join(root, \"temp_input\")\n",
        "os.makedirs(indir, exist_ok=True)\n",
        "\n",
        "faceenhancer = FaceEnhancement(base_dir=root, size=model['size'], model=model['name'], channel_multiplier=2)\n",
        "\n",
        "done = []\n",
        "\n",
        "while True:\n",
        "    src_names = [osp.splitext(d)[0] for d in os.listdir(faceset_dir)\n",
        "             if osp.splitext(d)[1] == \".zip\" and \"_superres\" not in d\n",
        "             and not osp.exists(osp.join(faceset_dir, osp.splitext(d)[0]+\"_superres.zip\"))\n",
        "             and osp.splitext(d)[0] not in done]\n",
        "    if len(src_names) == 0:\n",
        "        break\n",
        "    print(src_names)\n",
        "    \n",
        "\n",
        "\n",
        "    for id, src in enumerate(src_names):\n",
        "        print(\"{} / {} [{}]\".format(id+1, len(src_names), src))\n",
        "        zip_path = osp.join(faceset_dir, src+\".zip\")\n",
        "        print(\"Extracting [{}] ...\".format(zip_path))\n",
        "        with zipfile.ZipFile(zip_path) as z:\n",
        "            z.extractall(indir)\n",
        "\n",
        "        files = sorted(glob.glob(osp.join(indir, src, '*.*g')))\n",
        "\n",
        "        outdir = osp.join(root, src+\"_superres\", src+\"_superres\")\n",
        "        os.makedirs(outdir, exist_ok=True)\n",
        "\n",
        "        for n, file in enumerate(tqdm(files[:], total=len(files), desc=\"Enhancing faces ...\")):\n",
        "            filename = osp.basename(file)\n",
        "            ext = osp.splitext(file)[1]\n",
        "            if ext == \".jpg\":\n",
        "                dflimg = DFLJPG.load(file)\n",
        "            elif ext == \".png\":\n",
        "                dflimg = DFLPNG.load(file)\n",
        "            else:\n",
        "                continue\n",
        "\n",
        "            if not dflimg:\n",
        "                continue\n",
        "            \n",
        "            im = cv2.imread(file, cv2.IMREAD_COLOR) # BGR\n",
        "            input_x, input_y = im.shape[:2]\n",
        "            if not isinstance(im, np.ndarray): print(filename, 'error'); continue\n",
        "            im = cv2.resize(im, (0,0), fx=2, fy=2)\n",
        "\n",
        "            img, orig_faces, enhanced_faces = faceenhancer.process(im)\n",
        "            img = cv2.resize(img, (input_x, input_y))\n",
        "            cv2.imwrite(osp.join(outdir, filename), img)\n",
        "\n",
        "            if ext == \".jpg\":\n",
        "                _fanseg_mask = dflimg.dfl_dict.get('fanseg_mask', None)\n",
        "                if _fanseg_mask is not None:\n",
        "                    ret, buf = cv2.imencode( '.jpg', _fanseg_mask, [int(cv2.IMWRITE_JPEG_QUALITY), 85] )\n",
        "\n",
        "                    if ret and len(buf) < 64000:\n",
        "                        _fanseg_mask = buf\n",
        "                    else:\n",
        "                        io.log_err(\"Unable to encode fanseg_mask for %s\" % (filename) )\n",
        "                        _fanseg_mask = None\n",
        "\n",
        "                _xseg_mask = dflimg.dfl_dict.get('xseg_mask', None)\n",
        "                if _xseg_mask is not None:\n",
        "                    ret, buf = cv2.imencode( '.jpg', _xseg_mask, [int(cv2.IMWRITE_JPEG_QUALITY), 85] )\n",
        "\n",
        "                    if ret and len(buf) < 64000:\n",
        "                        _xseg_mask = buf\n",
        "                    else:\n",
        "                        io.log_err(\"Unable to encode xseg_mask for %s\" % (filename) )\n",
        "                        _xseg_mask = None\n",
        "\n",
        "                DFLJPG.embed_dfldict (osp.join(outdir, filename), \n",
        "                                        {'face_type': dflimg.get_face_type(),\n",
        "                                            'landmarks': dflimg.get_landmarks(),\n",
        "                                            'ie_polys' : dflimg.get_ie_polys(),\n",
        "                                            'source_filename': dflimg.get_source_filename(),\n",
        "                                            'source_rect': dflimg.get_source_rect(),\n",
        "                                            'source_landmarks': dflimg.get_source_landmarks(),\n",
        "                                            'image_to_face_mat': dflimg.get_image_to_face_mat(),\n",
        "                                            'fanseg_mask' : _fanseg_mask,\n",
        "                                            'xseg_mask' : _xseg_mask,\n",
        "                                            'eyebrows_expand_mod' : None,\n",
        "                                            'relighted' : None,\n",
        "                                            \"histgram\" : None,\n",
        "                                            \"recognition\" : dflimg.get_recognition(),\n",
        "                                        })\n",
        "            elif ext == \".png\":\n",
        "                dflimg = DFLPNG.embed_dfldict (osp.join(outdir, filename), \n",
        "                                        {'face_type': dflimg.get_face_type(),\n",
        "                                            'landmarks': dflimg.get_landmarks(),\n",
        "                                            'ie_polys' : dflimg.get_ie_polys(),\n",
        "                                            'source_filename': dflimg.get_source_filename(),\n",
        "                                            'source_rect': dflimg.get_source_rect(),\n",
        "                                            'source_landmarks': dflimg.get_source_landmarks(),\n",
        "                                            'image_to_face_mat': dflimg.get_image_to_face_mat(),\n",
        "                                            'fanseg_mask' : dflimg.dfl_dict.get ('fanseg_mask', None),\n",
        "                                            'xseg_mask' : dflimg.dfl_dict.get('xseg_mask', None),\n",
        "                                            'eyebrows_expand_mod' : None,\n",
        "                                            'relighted' : None,\n",
        "                                            \"histgram\" : None,\n",
        "                                            \"recognition\" : dflimg.get_recognition(),\n",
        "                                        })\n",
        "\n",
        "\n",
        "        \n",
        "        shutil.make_archive(src+\"_superres\", 'zip', src+\"_superres\")\n",
        "        if osp.exists(osp.join(faceset_dir, src+\"_superres.zip\")):\n",
        "            os.remove(osp.join(faceset_dir, src+\"_superres.zip\"))\n",
        "        shutil.move(src+\"_superres.zip\", faceset_dir)\n",
        "        shutil.rmtree(src+\"_superres\")\n",
        "        print(\"Successfully completed {}\".format(src+\"_superres\"))\n",
        "        done.append(src)\n",
        "\n",
        "print(done)"
      ],
      "execution_count": null,
      "outputs": []
    }
  ]
}